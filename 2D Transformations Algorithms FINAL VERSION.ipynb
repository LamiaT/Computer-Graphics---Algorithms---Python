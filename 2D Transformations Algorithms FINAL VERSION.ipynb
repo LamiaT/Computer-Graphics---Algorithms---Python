{
 "cells": [
  {
   "cell_type": "code",
   "execution_count": 1,
   "metadata": {},
   "outputs": [],
   "source": [
    "import numpy as np"
   ]
  },
  {
   "cell_type": "code",
   "execution_count": 2,
   "metadata": {},
   "outputs": [],
   "source": [
    "def translate(tx,ty):\n",
    "    \n",
    "    M = np.array([[1, 0, tx], \n",
    "                  [0, 1, ty], \n",
    "                  [0, 0, 1]])\n",
    "    \n",
    "    print(\"Composite Matrix, M:\")\n",
    "    print(M)\n",
    "    \n",
    "    A_old = np.array([36, 2, 1])  # P = (36, 2)\n",
    "    A = np.dot(M, A_old)\n",
    "    print(\"New Coordinate of A, A': ({})\".format(A))\n",
    "    \n",
    "    \n",
    "    B_old = np.array([57, -21, 1])  # P = (57, -21)\n",
    "    B = np.dot(M, B_old)\n",
    "    print(\"New Coordinate of B, B': ({})\".format(B))\n",
    "    \n",
    "    \n",
    "    C_old = np.array([4, 100, 1])  # P = (4, 100)\n",
    "    C = np.dot(M, C_old)\n",
    "    print(\"New Coordinate of C, C': ({})\".format(C))"
   ]
  },
  {
   "cell_type": "code",
   "execution_count": 3,
   "metadata": {},
   "outputs": [
    {
     "name": "stdout",
     "output_type": "stream",
     "text": [
      "Composite Matrix, M:\n",
      "[[  1   0  21]\n",
      " [  0   1 -16]\n",
      " [  0   0   1]]\n",
      "New Coordinate of A, A': ([ 57 -14   1])\n",
      "New Coordinate of B, B': ([ 78 -37   1])\n",
      "New Coordinate of C, C': ([25 84  1])\n"
     ]
    }
   ],
   "source": [
    "tx = 21\n",
    "ty = -16\n",
    "translate(tx, ty)"
   ]
  },
  {
   "cell_type": "code",
   "execution_count": 4,
   "metadata": {},
   "outputs": [],
   "source": [
    "def rotate():\n",
    "    \n",
    "    theta = -36 # Since, 36 degree clockwise\n",
    "    \n",
    "    M = np.array([[round(np.cos(theta),2), round(-np.sin(theta),2), 0], \n",
    "                  [round(np.sin(theta),2), round(np.cos(theta),2), 0], \n",
    "                  [0, 0, 1]])\n",
    "    \n",
    "    print(\"Composite Matrix, M:\")\n",
    "    print(M)\n",
    "    \n",
    "    A_prime = np.array([57, -14, 1]) # A' = (57, -14)\n",
    "    A_double = np.dot(M, A_prime)\n",
    "    print(\"New Coordinate of A', A'': ({})\".format(A_double))\n",
    "    \n",
    "    B_prime = np.array([78, -37, 1]) # B' = (78, -37)\n",
    "    B_double = np.dot(M, B_prime)\n",
    "    print(\"New Coordinate of B', B'': ({})\".format(B_double))\n",
    "    \n",
    "    C_prime = np.array([25, 84, 1]) # C' = (25, 84)\n",
    "    C_double = np.dot(M, C_prime)\n",
    "    print(\"New Coordinate of C', C'': ({})\".format(C_double))"
   ]
  },
  {
   "cell_type": "code",
   "execution_count": 5,
   "metadata": {},
   "outputs": [
    {
     "name": "stdout",
     "output_type": "stream",
     "text": [
      "Composite Matrix, M:\n",
      "[[-0.13 -0.99  0.  ]\n",
      " [ 0.99 -0.13  0.  ]\n",
      " [ 0.    0.    1.  ]]\n",
      "New Coordinate of A', A'': ([ 6.45 58.25  1.  ])\n",
      "New Coordinate of B', B'': ([26.49 82.03  1.  ])\n",
      "New Coordinate of C', C'': ([-86.41  13.83   1.  ])\n"
     ]
    }
   ],
   "source": [
    " rotate()"
   ]
  },
  {
   "cell_type": "code",
   "execution_count": 6,
   "metadata": {},
   "outputs": [],
   "source": [
    "def scale():\n",
    "    x1, y1 = 14, 57\n",
    "    x2, y2 = 37, 78\n",
    "    x3, y3 = -84, 25\n",
    "    \n",
    "    sx = 1.4\n",
    "    sy = 2.0\n",
    "    \n",
    "    A_scaled = x1 * sx, y1 * sy\n",
    "    print(\"New Coordinate of A'', A''':\", A_scaled)\n",
    "    \n",
    "    B_scaled = x2 * sx, y2 * sy\n",
    "    print(\"New Coordinate of B'', B''':\", B_scaled)\n",
    "    \n",
    "    C_scaled = x3 * sx, y3 * sy\n",
    "    print(\"New Coordinate of C'', C''':\", C_scaled)"
   ]
  },
  {
   "cell_type": "code",
   "execution_count": 7,
   "metadata": {},
   "outputs": [
    {
     "name": "stdout",
     "output_type": "stream",
     "text": [
      "New Coordinate of A'', A''': (19.599999999999998, 114.0)\n",
      "New Coordinate of B'', B''': (51.8, 156.0)\n",
      "New Coordinate of C'', C''': (-117.6, 50.0)\n"
     ]
    }
   ],
   "source": [
    "scale()"
   ]
  },
  {
   "cell_type": "code",
   "execution_count": 8,
   "metadata": {},
   "outputs": [
    {
     "name": "stdout",
     "output_type": "stream",
     "text": [
      "M1:\n",
      "[[ 0.81  0.59  0.  ]\n",
      " [-0.59  0.81  0.  ]\n",
      " [ 0.    0.    1.  ]]\n",
      "A_rotate: [ 37.91 -44.97   1.  ]\n"
     ]
    }
   ],
   "source": [
    "M1 = np.array([[0.81, 0.59, 0],\n",
    "               [-0.59, 0.81, 0],\n",
    "               [0, 0, 1]])\n",
    "print(\"M1:\")\n",
    "print(M1)\n",
    "\n",
    "A_r = np.array([57, -14, 1])\n",
    "A_rotate = np.dot(M1, A_r)\n",
    "print(\"A_rotate:\", A_rotate)"
   ]
  },
  {
   "cell_type": "code",
   "execution_count": 9,
   "metadata": {},
   "outputs": [
    {
     "name": "stdout",
     "output_type": "stream",
     "text": [
      "B_rotate: [ 41.35 -75.99   1.  ]\n"
     ]
    }
   ],
   "source": [
    "B_r = np.array([78, -37, 1])\n",
    "B_rotate = np.dot(M1, B_r)\n",
    "print(\"B_rotate:\", B_rotate)"
   ]
  },
  {
   "cell_type": "code",
   "execution_count": 10,
   "metadata": {},
   "outputs": [
    {
     "name": "stdout",
     "output_type": "stream",
     "text": [
      "C_rotate: [69.81 53.29  1.  ]\n"
     ]
    }
   ],
   "source": [
    "C_r = np.array([25, 84, 1])\n",
    "C_rotate = np.dot(M1, C_r)\n",
    "print(\"C_rotate:\", C_rotate)"
   ]
  },
  {
   "cell_type": "code",
   "execution_count": 11,
   "metadata": {},
   "outputs": [
    {
     "name": "stdout",
     "output_type": "stream",
     "text": [
      "A_last: (53.199999999999996, -90.0)\n",
      "B_last: (57.4, -152.0)\n",
      "C_last: (98.0, 106.0)\n"
     ]
    }
   ],
   "source": [
    "A_last = 38 * 1.4, -45 * 2.0\n",
    "print(\"A_last:\", A_last)\n",
    "\n",
    "B_last = 41 * 1.4, -76 * 2.0\n",
    "print(\"B_last:\", B_last)\n",
    "\n",
    "C_last = 70 * 1.4, 53 * 2.0\n",
    "print(\"C_last:\", C_last)"
   ]
  },
  {
   "cell_type": "code",
   "execution_count": null,
   "metadata": {},
   "outputs": [],
   "source": []
  }
 ],
 "metadata": {
  "kernelspec": {
   "display_name": "Python 3",
   "language": "python",
   "name": "python3"
  },
  "language_info": {
   "codemirror_mode": {
    "name": "ipython",
    "version": 3
   },
   "file_extension": ".py",
   "mimetype": "text/x-python",
   "name": "python",
   "nbconvert_exporter": "python",
   "pygments_lexer": "ipython3",
   "version": "3.7.6"
  }
 },
 "nbformat": 4,
 "nbformat_minor": 4
}
